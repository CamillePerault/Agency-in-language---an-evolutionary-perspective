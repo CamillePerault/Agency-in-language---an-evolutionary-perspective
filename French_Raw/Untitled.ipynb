{
 "cells": [
  {
   "cell_type": "code",
   "execution_count": null,
   "metadata": {},
   "outputs": [],
   "source": [
    "charset='utf-8'\n",
    "\n",
    "import sys\n",
    "sys.path.append(r'C:\\Users\\mauri\\Dropbox\\Baumard\\Scripts_Jupyter')\n",
    "sys.path.append(r'C:\\Users\\mauri\\Dropbox\\Baumard\\Scripts_Jupyter\\truecaser')\n",
    "\n",
    "import re, string, unicodedata\n",
    "import nltk\n",
    "\n",
    "import contractions\n",
    "import collections\n",
    "import inflect\n",
    "from bs4 import BeautifulSoup\n",
    "from nltk import word_tokenize\n",
    "from nltk.corpus import stopwords\n",
    "\n",
    "from nltk.stem.snowball import SnowballStemmer\n",
    "from nltk.stem import WordNetLemmatizer\n",
    "from urllib import urlopen\n",
    "from collections import Counter\n",
    "\n",
    "from nltk import pos_tag\n",
    "from nltk.tokenize import word_tokenize, sent_tokenize\n",
    "from nltk.corpus import wordnet\n",
    "from nltk import StanfordPOSTagger\n",
    "import os\n",
    "import codecs\n",
    "import numpy as np\n",
    "\n",
    "import xml.etree.ElementTree as ET\n",
    "import math\n",
    "import datetime as dt\n",
    "import random\n",
    "import zipfile\n",
    "import pandas as pd\n",
    "from django.utils.encoding import smart_str, smart_text\n",
    "\n",
    "from ggplot import *\n",
    "#from text_functions import *\n",
    "\n",
    "from os import path\n",
    "from wordcloud import WordCloud\n",
    "\n",
    "\n",
    "\n",
    "from matplotlib.pyplot import figure\n",
    "\n",
    "from textblob import TextBlob, Word\n",
    "from unidecode import unidecode\n",
    "\n",
    "from Truecaser import *\n",
    "\n",
    "import cPickle\n",
    "import seaborn as sns"
   ]
  }
 ],
 "metadata": {
  "kernelspec": {
   "display_name": "Python 3",
   "language": "python",
   "name": "python3"
  },
  "language_info": {
   "codemirror_mode": {
    "name": "ipython",
    "version": 3
   },
   "file_extension": ".py",
   "mimetype": "text/x-python",
   "name": "python",
   "nbconvert_exporter": "python",
   "pygments_lexer": "ipython3",
   "version": "3.7.3"
  }
 },
 "nbformat": 4,
 "nbformat_minor": 2
}
